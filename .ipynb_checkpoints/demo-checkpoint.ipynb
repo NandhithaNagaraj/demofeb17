{
 "cells": [
  {
   "cell_type": "code",
   "execution_count": 2,
   "id": "6f2174c9-948d-4ec8-ad9c-0da6dc53d012",
   "metadata": {},
   "outputs": [],
   "source": [
    "def fun(a,b):\n",
    "    return a + b"
   ]
  },
  {
   "cell_type": "code",
   "execution_count": 3,
   "id": "972b0cab-c64d-4a5f-a4ea-92ee5c080127",
   "metadata": {},
   "outputs": [
    {
     "data": {
      "text/plain": [
       "30"
      ]
     },
     "execution_count": 3,
     "metadata": {},
     "output_type": "execute_result"
    }
   ],
   "source": [
    "fun(10,20)"
   ]
  },
  {
   "cell_type": "code",
   "execution_count": null,
   "id": "d0630795-08b1-401c-ae1e-5336ba921af3",
   "metadata": {},
   "outputs": [],
   "source": []
  }
 ],
 "metadata": {
  "kernelspec": {
   "display_name": "Python 3 (ipykernel)",
   "language": "python",
   "name": "python3"
  },
  "language_info": {
   "codemirror_mode": {
    "name": "ipython",
    "version": 3
   },
   "file_extension": ".py",
   "mimetype": "text/x-python",
   "name": "python",
   "nbconvert_exporter": "python",
   "pygments_lexer": "ipython3",
   "version": "3.11.7"
  }
 },
 "nbformat": 4,
 "nbformat_minor": 5
}
